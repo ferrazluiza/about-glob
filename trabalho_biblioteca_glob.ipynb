{
  "nbformat": 4,
  "nbformat_minor": 0,
  "metadata": {
    "colab": {
      "name": "trabalho_biblioteca_glob.ipynb",
      "provenance": []
    },
    "kernelspec": {
      "name": "python3",
      "display_name": "Python 3"
    },
    "language_info": {
      "name": "python"
    }
  },
  "cells": [
    {
      "cell_type": "markdown",
      "metadata": {
        "id": "jVVoFvTRhQDY"
      },
      "source": [
        "Olá, pessoal. Nosso grupo é formado por Érika Yukari, Gabriela Caesar, Luiza Ferraz, Renan Cavalcante e Vinicius Marques. \n",
        "\n",
        "A biblioteca padrão do Python que foi tema do nosso trabalho chama-se Glob (https://docs.python.org/pt-br/3/library/glob.html)\n",
        "\n",
        "Você também pode conferir essa apresentação nesse repositório do Github*: \n",
        "https://github.com/ferrazluiza/about-glob \n",
        "\n",
        "\n"
      ]
    },
    {
      "cell_type": "code",
      "metadata": {
        "id": "ujfHP1CsMQ4P"
      },
      "source": [
        "# biblioteca escolhida pelo grupo\n",
        "# abaixo, nós a importamos\n",
        "import glob "
      ],
      "execution_count": 38,
      "outputs": []
    },
    {
      "cell_type": "markdown",
      "metadata": {
        "id": "I9GNb03IgOMX"
      },
      "source": [
        "Nós vamos brincar com os arquivos \"links do chat\" agora. A ideia é acessar a pasta em que  as conversas foram registradas a partir da função glob. Nesta etapa precisamos ter os arquivos (que estão em nosso repositório) e fazer o upload aqui no Colab. \n"
      ]
    },
    {
      "cell_type": "code",
      "metadata": {
        "id": "XdwHbtRegg-b"
      },
      "source": [
        "path = r'/content/' #caminho para os arquivos que vamos subir   "
      ],
      "execution_count": 41,
      "outputs": []
    },
    {
      "cell_type": "code",
      "metadata": {
        "id": "aMBXIYjmglts"
      },
      "source": [
        "filenames = glob.glob(path + \"/*.txt\") #chamamos a função glob da biblioteca glob, o caminho que informamos na linha acima e também a extensão de nosso interesse "
      ],
      "execution_count": 43,
      "outputs": []
    },
    {
      "cell_type": "code",
      "metadata": {
        "colab": {
          "base_uri": "https://localhost:8080/"
        },
        "id": "2JPlLm2MgrVa",
        "outputId": "ea5b49bb-a243-418d-dfc9-917740bc8b18"
      },
      "source": [
        "print(filenames) #printamos, então, os nomes dos arquivos "
      ],
      "execution_count": 44,
      "outputs": [
        {
          "output_type": "stream",
          "name": "stdout",
          "text": [
            "['/content/GMT20210811-223050_Recording.txt', '/content/GMT20210820-222253_Recording.txt', '/content/GMT20210818-222332_Recording.txt', '/content/GMT20210802-212614_Recording.txt', '/content/GMT20210809-234715_Recording.txt', '/content/GMT20210813-222825_Recording.txt', '/content/GMT20210809-212840_Recording.txt', '/content/GMT20210816-234945_Recording.txt', '/content/GMT20210728-223542_Recording.txt', '/content/GMT20210804-222232_Recording.txt', '/content/GMT20210726-212633_Recording.txt', '/content/GMT20210816-212317_Recording.txt', '/content/GMT20210806-222707_Recording.txt', '/content/GMT20210809-213308_Recording.txt']\n"
          ]
        }
      ]
    },
    {
      "cell_type": "markdown",
      "metadata": {
        "id": "0M8LCDcLguUp"
      },
      "source": [
        "Essa é a parte dois, em que vamos listar todos os arquivos com uma certa extensão que queremos identificar dentro de determinada pasta do Google Drive. \n"
      ]
    },
    {
      "cell_type": "code",
      "metadata": {
        "colab": {
          "base_uri": "https://localhost:8080/"
        },
        "id": "5tILZ2vzIPFG",
        "outputId": "b54130e0-78dc-47be-d59f-9a54915554ed"
      },
      "source": [
        "# Como quisemos explorar também arquivos de uma pasta localizada no Google Drive, importamos a biblioteca abaixo. \n",
        "from google.colab import drive \n",
        "drive.mount('/gdrive') "
      ],
      "execution_count": 37,
      "outputs": [
        {
          "output_type": "stream",
          "name": "stdout",
          "text": [
            "Mounted at /gdrive\n"
          ]
        }
      ]
    },
    {
      "cell_type": "code",
      "metadata": {
        "id": "xJtdFPVeIR7T"
      },
      "source": [
        "# caminho para a pasta onde desejamos saber quais são os arquivos guardados\n",
        "# também informamos que nessa pasta/diretório, o nosso interesse são arquivos com a extensão 'ipynb'\n",
        "# essa extensão/formato é dos nossos notebooks criados no Colab nas aulas/exercícios\n",
        "path_2 = glob.glob(\"/gdrive/MyDrive/Colab Notebooks/***.ipynb\")"
      ],
      "execution_count": 45,
      "outputs": []
    },
    {
      "cell_type": "code",
      "metadata": {
        "colab": {
          "base_uri": "https://localhost:8080/"
        },
        "id": "bcIZV04jITzi",
        "outputId": "6925fb0f-ab42-4a30-b88f-e85f8d869229"
      },
      "source": [
        "# para cada arquivo nessa pasta, nós queremos 'printar' o nome dele\n",
        "for file in path_2:\n",
        "  print(file)"
      ],
      "execution_count": 46,
      "outputs": [
        {
          "output_type": "stream",
          "name": "stdout",
          "text": [
            "/gdrive/MyDrive/Colab Notebooks/Untitled0.ipynb\n",
            "/gdrive/MyDrive/Colab Notebooks/Aula2.ipynb\n",
            "/gdrive/MyDrive/Colab Notebooks/gapminder-andrefelipe.ipynb\n",
            "/gdrive/MyDrive/Colab Notebooks/insper_03_data_structures_for_csv.ipynb\n",
            "/gdrive/MyDrive/Colab Notebooks/Exercício2_linksdochat_ÉrikaY.ipynb\n",
            "/gdrive/MyDrive/Colab Notebooks/trabalho_biblioteca_glob.ipynb\n"
          ]
        }
      ]
    },
    {
      "cell_type": "markdown",
      "metadata": {
        "id": "kn1TqPIXmauZ"
      },
      "source": [
        "Há outras funções na biblioteca Glob: "
      ]
    }
  ]
}