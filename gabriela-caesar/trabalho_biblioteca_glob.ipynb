{
  "nbformat": 4,
  "nbformat_minor": 0,
  "metadata": {
    "colab": {
      "name": "trabalho_biblioteca_glob.ipynb",
      "provenance": []
    },
    "kernelspec": {
      "name": "python3",
      "display_name": "Python 3"
    },
    "language_info": {
      "name": "python"
    }
  },
  "cells": [
    {
      "cell_type": "code",
      "metadata": {
        "colab": {
          "base_uri": "https://localhost:8080/"
        },
        "id": "5tILZ2vzIPFG",
        "outputId": "76d41fd4-a93a-4876-9af1-6d04d395b5bc"
      },
      "source": [
        "# como estamos usando o Colab, para trabalharmos com a Glob, precisamos importar esta biblioteca do google colab antes\n",
        "from google.colab import drive # biblioteca que precisa ser importada para o trabalho por usarmos o Colab junto com a glob\n",
        "drive.mount('/gdrive') # também tem relação com o que foi explicado acima"
      ],
      "execution_count": 11,
      "outputs": [
        {
          "output_type": "stream",
          "name": "stdout",
          "text": [
            "Mounted at /gdrive\n"
          ]
        }
      ]
    },
    {
      "cell_type": "code",
      "metadata": {
        "id": "ujfHP1CsMQ4P"
      },
      "source": [
        "# biblioteca escolhida pelo grupo\n",
        "# abaixo, nós a importamos\n",
        "import glob "
      ],
      "execution_count": null,
      "outputs": []
    },
    {
      "cell_type": "code",
      "metadata": {
        "id": "xJtdFPVeIR7T"
      },
      "source": [
        "# caminho para a pasta onde desejamos saber quais são os arquivos guardados\n",
        "# também informamos que nessa pasta/diretório, o nosso interesse são arquivos com a extensão 'ipynb'\n",
        "# essa extensão/formato é dos nossos notebooks criados no Colab nas aulas/exercícios\n",
        "path = glob.glob(\"/gdrive/My Drive/2021-insper/notebook/pensamento-computacional/***.ipynb\") "
      ],
      "execution_count": 28,
      "outputs": []
    },
    {
      "cell_type": "code",
      "metadata": {
        "colab": {
          "base_uri": "https://localhost:8080/"
        },
        "id": "bcIZV04jITzi",
        "outputId": "265eb420-fa75-43d4-91ae-9598377fe581"
      },
      "source": [
        "# para cada arquivo nessa pasta, nós queremos 'printar' o nome dele\n",
        "for file in path:\n",
        "  print(file)"
      ],
      "execution_count": 29,
      "outputs": [
        {
          "output_type": "stream",
          "name": "stdout",
          "text": [
            "/gdrive/My Drive/2021-insper/notebook/pensamento-computacional/exercicio-pensamento-computacional.ipynb\n",
            "/gdrive/My Drive/2021-insper/notebook/pensamento-computacional/aula-3-pensamento-computacional.ipynb\n",
            "/gdrive/My Drive/2021-insper/notebook/pensamento-computacional/aula_3_parte_2_pensamento_computacional.ipynb\n"
          ]
        }
      ]
    }
  ]
}